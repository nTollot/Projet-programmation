{
 "cells": [
  {
   "cell_type": "markdown",
   "id": "1bcc92ba",
   "metadata": {},
   "source": [
    "# Web scraping on Reddit"
   ]
  },
  {
   "cell_type": "markdown",
   "id": "76dbf128",
   "metadata": {},
   "source": [
    "# "
   ]
  },
  {
   "cell_type": "code",
   "execution_count": 2,
   "id": "bf0777c6",
   "metadata": {},
   "outputs": [],
   "source": [
    "#!pip install psaw"
   ]
  },
  {
   "cell_type": "code",
   "execution_count": 21,
   "id": "9f26632e",
   "metadata": {},
   "outputs": [],
   "source": [
    "import copy\n",
    "import numpy as np\n",
    "import pandas as pd\n",
    "import requests\n",
    "import time\n",
    "import io\n",
    "\n",
    "from datetime import datetime \n",
    "from psaw import PushshiftAPI"
   ]
  },
  {
   "cell_type": "markdown",
   "id": "b03f23e6",
   "metadata": {},
   "source": [
    " "
   ]
  },
  {
   "cell_type": "markdown",
   "id": "d5be705e",
   "metadata": {},
   "source": [
    "# I - Importation des données"
   ]
  },
  {
   "cell_type": "code",
   "execution_count": 4,
   "id": "01967da4",
   "metadata": {},
   "outputs": [],
   "source": [
    "api = PushshiftAPI()"
   ]
  },
  {
   "cell_type": "code",
   "execution_count": 5,
   "id": "0cac14c6",
   "metadata": {},
   "outputs": [
    {
     "name": "stderr",
     "output_type": "stream",
     "text": [
      "C:\\Users\\nicol\\anaconda3\\lib\\site-packages\\psaw\\PushshiftAPI.py:252: UserWarning: Not all PushShift shards are active. Query results may be incomplete\n",
      "  warnings.warn(shards_down_message)\n"
     ]
    }
   ],
   "source": [
    "#search for posts of the year 2021\n",
    "start_epoch_2021 = int(datetime(2021, 1, 1).timestamp())\n",
    "end_epoch_2021 = int(datetime(2021, 12, 31).timestamp())\n",
    "\n",
    "api_request_generator_21 = api.search_submissions(\n",
    "    after=start_epoch_2021,\n",
    "    before=end_epoch_2021,\n",
    "    subreddit='antiwork',\n",
    "    limit=3000,\n",
    "    score=\">40\"\n",
    ")\n",
    "\n",
    "df21 = pd.DataFrame([submission.d_ for submission in api_request_generator_21])\n",
    "\n",
    "df21[\"created_utc\"] = df21[\"created_utc\"].apply(datetime.fromtimestamp)\n",
    "\n",
    "time.sleep(1)\n",
    "\n",
    "\n",
    "#search for posts of the year 2020\n",
    "\n",
    "start_epoch_2020 = int(datetime(2020, 1, 1).timestamp())\n",
    "end_epoch_2020 = int(datetime(2020, 12, 31).timestamp())\n",
    "\n",
    "api_request_generator_20 = api.search_submissions(\n",
    "    after=start_epoch_2020,\n",
    "    before=end_epoch_2020,\n",
    "    subreddit='antiwork',\n",
    "    limit=3000,\n",
    "    score=\">40\"\n",
    ")\n",
    "\n",
    "df20 = pd.DataFrame([submission.d_ for submission in api_request_generator_20])\n",
    "\n",
    "df20[\"created_utc\"] = df20[\"created_utc\"].apply(datetime.fromtimestamp)\n",
    "\n",
    "time.sleep(1)\n",
    "\n",
    "\n",
    "#search for posts of the year 2019\n",
    "\n",
    "start_epoch_2019 = int(datetime(2019, 1, 1).timestamp())\n",
    "end_epoch_2019 = int(datetime(2019, 12, 31).timestamp())\n",
    "\n",
    "api_request_generator_19 = api.search_submissions(\n",
    "    after=start_epoch_2019,\n",
    "    before=end_epoch_2019,\n",
    "    subreddit='antiwork',\n",
    "    limit=3000,\n",
    "    score=\">40\"\n",
    ")\n",
    "\n",
    "df19 = pd.DataFrame([submission.d_ for submission in api_request_generator_19])\n",
    "\n",
    "df19[\"created_utc\"] = df19[\"created_utc\"].apply(datetime.fromtimestamp)\n",
    "\n",
    "time.sleep(1)\n",
    "\n",
    "\n",
    "#search for posts of the year 2018\n",
    "\n",
    "start_epoch_2018 = int(datetime(2018, 1, 1).timestamp())\n",
    "end_epoch_2018 = int(datetime(2018, 12, 31).timestamp())\n",
    "\n",
    "api_request_generator_18 = api.search_submissions(\n",
    "    after=start_epoch_2018,\n",
    "    before=end_epoch_2018,\n",
    "    subreddit='antiwork',\n",
    "    limit=3000,\n",
    "    score=\">40\"\n",
    ")\n",
    "\n",
    "df18 = pd.DataFrame([submission.d_ for submission in api_request_generator_18])\n",
    "\n",
    "df18[\"created_utc\"] = df18[\"created_utc\"].apply(datetime.fromtimestamp)"
   ]
  },
  {
   "cell_type": "code",
   "execution_count": 7,
   "id": "143fabed",
   "metadata": {},
   "outputs": [],
   "source": [
    "df21 = df21[['score','created_utc']]\n",
    "df20 = df20[['score','created_utc']]\n",
    "df19 = df19[['score','created_utc']]\n",
    "df18 = df18[['score','created_utc']]"
   ]
  },
  {
   "cell_type": "code",
   "execution_count": 6,
   "id": "7c7f4e27",
   "metadata": {},
   "outputs": [
    {
     "name": "stdout",
     "output_type": "stream",
     "text": [
      "1579 396 1938 57\n"
     ]
    }
   ],
   "source": [
    "print(len(df21.index),len(df20.index),len(df19.index),len(df18.index))"
   ]
  },
  {
   "cell_type": "code",
   "execution_count": 8,
   "id": "82d2b1c3",
   "metadata": {},
   "outputs": [
    {
     "data": {
      "text/html": [
       "<div>\n",
       "<style scoped>\n",
       "    .dataframe tbody tr th:only-of-type {\n",
       "        vertical-align: middle;\n",
       "    }\n",
       "\n",
       "    .dataframe tbody tr th {\n",
       "        vertical-align: top;\n",
       "    }\n",
       "\n",
       "    .dataframe thead th {\n",
       "        text-align: right;\n",
       "    }\n",
       "</style>\n",
       "<table border=\"1\" class=\"dataframe\">\n",
       "  <thead>\n",
       "    <tr style=\"text-align: right;\">\n",
       "      <th></th>\n",
       "      <th>score</th>\n",
       "      <th>date</th>\n",
       "    </tr>\n",
       "  </thead>\n",
       "  <tbody>\n",
       "    <tr>\n",
       "      <th>0</th>\n",
       "      <td>57</td>\n",
       "      <td>2021-12-09 07:08:38</td>\n",
       "    </tr>\n",
       "    <tr>\n",
       "      <th>1</th>\n",
       "      <td>45</td>\n",
       "      <td>2021-12-09 06:26:55</td>\n",
       "    </tr>\n",
       "    <tr>\n",
       "      <th>2</th>\n",
       "      <td>81</td>\n",
       "      <td>2021-12-09 06:22:33</td>\n",
       "    </tr>\n",
       "    <tr>\n",
       "      <th>3</th>\n",
       "      <td>68</td>\n",
       "      <td>2021-12-09 06:21:43</td>\n",
       "    </tr>\n",
       "    <tr>\n",
       "      <th>4</th>\n",
       "      <td>43</td>\n",
       "      <td>2021-12-09 06:20:32</td>\n",
       "    </tr>\n",
       "  </tbody>\n",
       "</table>\n",
       "</div>"
      ],
      "text/plain": [
       "   score                date\n",
       "0     57 2021-12-09 07:08:38\n",
       "1     45 2021-12-09 06:26:55\n",
       "2     81 2021-12-09 06:22:33\n",
       "3     68 2021-12-09 06:21:43\n",
       "4     43 2021-12-09 06:20:32"
      ]
     },
     "execution_count": 8,
     "metadata": {},
     "output_type": "execute_result"
    }
   ],
   "source": [
    "df = pd.concat([df21,df20,df19,df18])\n",
    "df = df.rename(columns={'created_utc':'date'})\n",
    "df.head()"
   ]
  },
  {
   "cell_type": "markdown",
   "id": "fdbbd306",
   "metadata": {},
   "source": [
    " "
   ]
  },
  {
   "cell_type": "markdown",
   "id": "d2758be9",
   "metadata": {},
   "source": [
    "# II - Visualisation des données "
   ]
  },
  {
   "cell_type": "code",
   "execution_count": 40,
   "id": "81b3be96",
   "metadata": {},
   "outputs": [
    {
     "data": {
      "text/plain": [
       "<AxesSubplot:title={'center':'Score des posts reddit sur le thème antiwork entre 2018 et 2021'}, xlabel='date', ylabel='score'>"
      ]
     },
     "execution_count": 40,
     "metadata": {},
     "output_type": "execute_result"
    },
    {
     "data": {
      "image/png": "[encoded data removed]",
      "text/plain": [
       "<Figure size 432x288 with 1 Axes>"
      ]
     },
     "metadata": {
      "needs_background": "light"
     },
     "output_type": "display_data"
    }
   ],
   "source": [
    "df.plot(kind='scatter',x='date',y='score',logy=True,title='Score des posts reddit sur le thème antiwork entre 2018 et 2021')"
   ]
  },
  {
   "cell_type": "markdown",
   "id": "ece34c94",
   "metadata": {},
   "source": [
    " "
   ]
  },
  {
   "cell_type": "markdown",
   "id": "287784b7",
   "metadata": {},
   "source": [
    "Ensuite, on va rendre les variables moins abrutes en créant une variable continue qui à une date donnée associe le score moyen des posts reddit sur une période fixe (un jour puis un mois)."
   ]
  },
  {
   "cell_type": "markdown",
   "id": "07e9fbd4",
   "metadata": {},
   "source": [
    " On envisage d'analyser la corrélation entre la situation d'économie et la tendance/ la popularité de différents subreddit sur le site internet \"Reddit\", par exemple la difficulté économique aux Etats Unis incite la popularité de subreddit \"Antiwork\". Au niveau de source de données, on envisage d'utiliser Reddit API pour acquérir les données sur Reddit, et le site internet de World Bank pour les données économiques."
   ]
  },
  {
   "cell_type": "markdown",
   "id": "caf7936d",
   "metadata": {},
   "source": [
    " "
   ]
  },
  {
   "cell_type": "markdown",
   "id": "dd4246f0",
   "metadata": {},
   "source": [
    " "
   ]
  },
  {
   "cell_type": "markdown",
   "id": "bc4b2960",
   "metadata": {},
   "source": [
    "# III - Importation des données de PIB des Etats-Unis de 2018 à 2021"
   ]
  },
  {
   "cell_type": "markdown",
   "id": "87c72bf5",
   "metadata": {},
   "source": [
    "On utilisera les données de la banque de la réserve fédérale américaine."
   ]
  },
  {
   "cell_type": "code",
   "execution_count": 10,
   "id": "d3edd2cd",
   "metadata": {},
   "outputs": [],
   "source": [
    "url = 'https://fred.stlouisfed.org/graph/fredgraph.csv?bgcolor=%23e1e9f0&chart_type=line&drp=0&fo=open%20sans&graph_bgcolor\\\n",
    "=%23ffffff&height=450&mode=fred&recession_bars=on&txtcolor=%23444444&ts=12&tts=12&width=1168&nt=0&thu=0&trc=0&show_legend=y\\\n",
    "es&show_axis_titles=yes&show_tooltip=yes&id=GDP&scale=left&cosd=2017-10-01&coed=2021-07-01&line_color=%234572a7&link_values\\\n",
    "=false&line_style=solid&mark_type=none&mw=3&lw=2&ost=-99999&oet=99999&mma=0&fml=a&fq=Quarterly&fam=avg&fgst=lin&fgsnd=2020-\\\n",
    "02-01&line_index=1&transformation=lin&vintage_date=2022-01-02&revision_date=2022-01-02&nd=1947-01-01'\n",
    "\n",
    "GDP = requests.get(url,allow_redirects=True).content.decode(\"utf-8\")"
   ]
  },
  {
   "cell_type": "code",
   "execution_count": 11,
   "id": "8ed65113",
   "metadata": {},
   "outputs": [],
   "source": [
    "gdp = [float(GDP[20+i*21:29+i*21]) for i in range(16)] + [round(1.022*float(GDP[20+15*21:29+15*21]),3)] "
   ]
  },
  {
   "cell_type": "markdown",
   "id": "c2ed568e",
   "metadata": {},
   "source": [
    "Pib en milliard de dollars\n",
    "(Augmentation de 2.2 % du pib au 4ème trimestre 2021)"
   ]
  },
  {
   "cell_type": "code",
   "execution_count": 12,
   "id": "a6463090",
   "metadata": {},
   "outputs": [],
   "source": [
    "date_df = pd.date_range('2017-10-01', periods=17, freq='3M')\n",
    "gdp_df = pd.DataFrame({ 'date': date_df,'GDP': gdp})\n",
    "\n",
    "def _31_to_01(t):\n",
    "    T = str(t)\n",
    "    return T[:8]+\"01\"\n",
    "\n",
    "gdp_df['date'] = gdp_df['date'].apply(_31_to_01) \n",
    "\n",
    "gdp_df = gdp_df.set_index('date')"
   ]
  },
  {
   "cell_type": "code",
   "execution_count": 13,
   "id": "4be20ed6",
   "metadata": {},
   "outputs": [],
   "source": [
    "gdp_growth = gdp_df.pct_change()[1:]\n",
    "gdp_growth = gdp_growth.reset_index()"
   ]
  },
  {
   "cell_type": "code",
   "execution_count": 14,
   "id": "1d257791",
   "metadata": {},
   "outputs": [
    {
     "data": {
      "text/html": [
       "<div>\n",
       "<style scoped>\n",
       "    .dataframe tbody tr th:only-of-type {\n",
       "        vertical-align: middle;\n",
       "    }\n",
       "\n",
       "    .dataframe tbody tr th {\n",
       "        vertical-align: top;\n",
       "    }\n",
       "\n",
       "    .dataframe thead th {\n",
       "        text-align: right;\n",
       "    }\n",
       "</style>\n",
       "<table border=\"1\" class=\"dataframe\">\n",
       "  <thead>\n",
       "    <tr style=\"text-align: right;\">\n",
       "      <th></th>\n",
       "      <th>date</th>\n",
       "      <th>GDP</th>\n",
       "    </tr>\n",
       "  </thead>\n",
       "  <tbody>\n",
       "    <tr>\n",
       "      <th>0</th>\n",
       "      <td>2018-01-01</td>\n",
       "      <td>0.013114</td>\n",
       "    </tr>\n",
       "    <tr>\n",
       "      <th>1</th>\n",
       "      <td>2018-04-01</td>\n",
       "      <td>0.017314</td>\n",
       "    </tr>\n",
       "    <tr>\n",
       "      <th>2</th>\n",
       "      <td>2018-07-01</td>\n",
       "      <td>0.008130</td>\n",
       "    </tr>\n",
       "    <tr>\n",
       "      <th>3</th>\n",
       "      <td>2018-10-01</td>\n",
       "      <td>0.007465</td>\n",
       "    </tr>\n",
       "    <tr>\n",
       "      <th>4</th>\n",
       "      <td>2019-01-01</td>\n",
       "      <td>0.009045</td>\n",
       "    </tr>\n",
       "  </tbody>\n",
       "</table>\n",
       "</div>"
      ],
      "text/plain": [
       "         date       GDP\n",
       "0  2018-01-01  0.013114\n",
       "1  2018-04-01  0.017314\n",
       "2  2018-07-01  0.008130\n",
       "3  2018-10-01  0.007465\n",
       "4  2019-01-01  0.009045"
      ]
     },
     "execution_count": 14,
     "metadata": {},
     "output_type": "execute_result"
    }
   ],
   "source": [
    "gdp_growth.head()"
   ]
  },
  {
   "cell_type": "code",
   "execution_count": 15,
   "id": "1e0be42a",
   "metadata": {
    "scrolled": true
   },
   "outputs": [
    {
     "data": {
      "text/plain": [
       "<AxesSubplot:title={'center':'Taux de croissance du PIB aux Etats-Unis entre 2018 et 2021 en milliards de dollars'}, xlabel='date'>"
      ]
     },
     "execution_count": 15,
     "metadata": {},
     "output_type": "execute_result"
    },
    {
     "data": {
      "image/png": "[encoded data removed]",
      "text/plain": [
       "<Figure size 432x288 with 1 Axes>"
      ]
     },
     "metadata": {
      "needs_background": "light"
     },
     "output_type": "display_data"
    }
   ],
   "source": [
    "gdp_growth.plot(kind='line',x='date',y='GDP',title='Taux de croissance du PIB aux Etats-Unis entre 2018 et 2021 en milliards \\\n",
    "de dollars')"
   ]
  },
  {
   "cell_type": "markdown",
   "id": "8eba092f",
   "metadata": {},
   "source": [
    "# - Importation des données de taux d'inflation des Etats-Unis de 2018 à 2021"
   ]
  },
  {
   "cell_type": "code",
   "execution_count": 35,
   "id": "f4d28be7",
   "metadata": {},
   "outputs": [],
   "source": [
    "url2 = \"https://fred.stlouisfed.org/graph/fredgraph.csv?bgcolor=%23e1e9f0&chart_type=line&drp=0&fo=open%20sans&graph_bgcolor=%23ffffff&height=450&mode=fred&recession_bars=on&txtcolor=%23444444&ts=12&tts=12&width=1168&nt=0&thu=0&trc=0&show_legend=yes&show_axis_titles=yes&show_tooltip=yes&id=T10YIE&scale=left&cosd=2018-01-01&coed=2021-12-31&line_color=%234572a7&link_values=false&line_style=solid&mark_type=none&mw=3&lw=2&ost=-99999&oet=99999&mma=0&fml=a&fq=Daily&fam=avg&fgst=lin&fgsnd=2020-02-01&line_index=1&transformation=lin&vintage_date=2022-01-04&revision_date=2022-01-04&nd=2003-01-02\"\n",
    "url3 = \"https://fred.stlouisfed.org/graph/fredgraph.csv?bgcolor=%23e1e9f0&chart_type=line&drp=0&fo=open%20sans&graph_bgcolor=%23ffffff&height=450&mode=fred&recession_bars=on&txtcolor=%23444444&ts=12&tts=12&width=1168&nt=0&thu=0&trc=0&show_legend=yes&show_axis_titles=yes&show_tooltip=yes&id=CPILFESL&scale=left&cosd=2018-01-01&coed=2021-11-01&line_color=%234572a7&link_values=false&line_style=solid&mark_type=none&mw=3&lw=2&ost=-99999&oet=99999&mma=0&fml=a&fq=Monthly&fam=avg&fgst=lin&fgsnd=2020-02-01&line_index=1&transformation=lin&vintage_date=2022-01-04&revision_date=2022-01-04&nd=1957-01-01\"\n",
    "inflation = requests.get(url2,allow_redirects=True).content.decode(\"utf-8\")\n",
    "CPI = requests.get(url3,allow_redirects=True).content.decode(\"utf-8\")\n"
   ]
  },
  {
   "cell_type": "code",
   "execution_count": 22,
   "id": "91140067",
   "metadata": {},
   "outputs": [],
   "source": [
    "data = io.StringIO(inflation)\n",
    "df_inflation = pd.read_csv(data, sep=\",\")"
   ]
  },
  {
   "cell_type": "code",
   "execution_count": 23,
   "id": "84a66928",
   "metadata": {},
   "outputs": [
    {
     "data": {
      "text/html": [
       "<div>\n",
       "<style scoped>\n",
       "    .dataframe tbody tr th:only-of-type {\n",
       "        vertical-align: middle;\n",
       "    }\n",
       "\n",
       "    .dataframe tbody tr th {\n",
       "        vertical-align: top;\n",
       "    }\n",
       "\n",
       "    .dataframe thead th {\n",
       "        text-align: right;\n",
       "    }\n",
       "</style>\n",
       "<table border=\"1\" class=\"dataframe\">\n",
       "  <thead>\n",
       "    <tr style=\"text-align: right;\">\n",
       "      <th></th>\n",
       "      <th>DATE</th>\n",
       "      <th>T10YIE</th>\n",
       "    </tr>\n",
       "  </thead>\n",
       "  <tbody>\n",
       "    <tr>\n",
       "      <th>0</th>\n",
       "      <td>2018-01-02</td>\n",
       "      <td>2.0</td>\n",
       "    </tr>\n",
       "    <tr>\n",
       "      <th>1</th>\n",
       "      <td>2018-01-03</td>\n",
       "      <td>1.98</td>\n",
       "    </tr>\n",
       "    <tr>\n",
       "      <th>2</th>\n",
       "      <td>2018-01-04</td>\n",
       "      <td>2.01</td>\n",
       "    </tr>\n",
       "    <tr>\n",
       "      <th>3</th>\n",
       "      <td>2018-01-05</td>\n",
       "      <td>2.01</td>\n",
       "    </tr>\n",
       "    <tr>\n",
       "      <th>4</th>\n",
       "      <td>2018-01-08</td>\n",
       "      <td>2.02</td>\n",
       "    </tr>\n",
       "  </tbody>\n",
       "</table>\n",
       "</div>"
      ],
      "text/plain": [
       "         DATE T10YIE\n",
       "0  2018-01-02    2.0\n",
       "1  2018-01-03   1.98\n",
       "2  2018-01-04   2.01\n",
       "3  2018-01-05   2.01\n",
       "4  2018-01-08   2.02"
      ]
     },
     "execution_count": 23,
     "metadata": {},
     "output_type": "execute_result"
    }
   ],
   "source": [
    "df_inflation.head()"
   ]
  },
  {
   "cell_type": "code",
   "execution_count": 32,
   "id": "50a099b8",
   "metadata": {},
   "outputs": [],
   "source": [
    "df_inflation['T10YIE'] = pd.to_numeric(df_inflation['T10YIE'],errors='coerce')"
   ]
  },
  {
   "cell_type": "code",
   "execution_count": 34,
   "id": "3db151f2",
   "metadata": {},
   "outputs": [
    {
     "data": {
      "text/plain": [
       "<AxesSubplot:title={'center':\"Taux d'inflation aux Etats-Unis entre 2018 et 2021\"}, xlabel='DATE'>"
      ]
     },
     "execution_count": 34,
     "metadata": {},
     "output_type": "execute_result"
    },
    {
     "data": {
      "image/png": "[encoded data removed]",
      "text/plain": [
       "<Figure size 432x288 with 1 Axes>"
      ]
     },
     "metadata": {
      "needs_background": "light"
     },
     "output_type": "display_data"
    }
   ],
   "source": [
    "df_inflation.plot(kind='line',x='DATE',y=\"T10YIE\",title=\"Taux d'inflation aux Etats-Unis entre 2018 et 2021\")"
   ]
  },
  {
   "cell_type": "code",
   "execution_count": 36,
   "id": "45864ca9",
   "metadata": {},
   "outputs": [],
   "source": [
    "data = io.StringIO(CPI)\n",
    "df_CPI = pd.read_csv(data, sep=\",\")"
   ]
  },
  {
   "cell_type": "code",
   "execution_count": 41,
   "id": "5f00512b",
   "metadata": {},
   "outputs": [
    {
     "data": {
      "text/html": [
       "<div>\n",
       "<style scoped>\n",
       "    .dataframe tbody tr th:only-of-type {\n",
       "        vertical-align: middle;\n",
       "    }\n",
       "\n",
       "    .dataframe tbody tr th {\n",
       "        vertical-align: top;\n",
       "    }\n",
       "\n",
       "    .dataframe thead th {\n",
       "        text-align: right;\n",
       "    }\n",
       "</style>\n",
       "<table border=\"1\" class=\"dataframe\">\n",
       "  <thead>\n",
       "    <tr style=\"text-align: right;\">\n",
       "      <th></th>\n",
       "      <th>DATE</th>\n",
       "      <th>CPILFESL</th>\n",
       "      <th>T10YIE</th>\n",
       "    </tr>\n",
       "  </thead>\n",
       "  <tbody>\n",
       "    <tr>\n",
       "      <th>0</th>\n",
       "      <td>2018-01-01</td>\n",
       "      <td>255.007</td>\n",
       "      <td>255.007</td>\n",
       "    </tr>\n",
       "    <tr>\n",
       "      <th>1</th>\n",
       "      <td>2018-02-01</td>\n",
       "      <td>255.472</td>\n",
       "      <td>255.472</td>\n",
       "    </tr>\n",
       "    <tr>\n",
       "      <th>2</th>\n",
       "      <td>2018-03-01</td>\n",
       "      <td>256.117</td>\n",
       "      <td>256.117</td>\n",
       "    </tr>\n",
       "    <tr>\n",
       "      <th>3</th>\n",
       "      <td>2018-04-01</td>\n",
       "      <td>256.656</td>\n",
       "      <td>256.656</td>\n",
       "    </tr>\n",
       "    <tr>\n",
       "      <th>4</th>\n",
       "      <td>2018-05-01</td>\n",
       "      <td>257.157</td>\n",
       "      <td>257.157</td>\n",
       "    </tr>\n",
       "  </tbody>\n",
       "</table>\n",
       "</div>"
      ],
      "text/plain": [
       "         DATE  CPILFESL   T10YIE\n",
       "0  2018-01-01   255.007  255.007\n",
       "1  2018-02-01   255.472  255.472\n",
       "2  2018-03-01   256.117  256.117\n",
       "3  2018-04-01   256.656  256.656\n",
       "4  2018-05-01   257.157  257.157"
      ]
     },
     "execution_count": 41,
     "metadata": {},
     "output_type": "execute_result"
    }
   ],
   "source": [
    "df_CPI.head()"
   ]
  },
  {
   "cell_type": "markdown",
   "id": "d792b68f",
   "metadata": {},
   "source": [
    " "
   ]
  },
  {
   "cell_type": "code",
   "execution_count": 39,
   "id": "f7ec6c76",
   "metadata": {},
   "outputs": [],
   "source": [
    "df_CPI['T10YIE'] = pd.to_numeric(df_CPI['CPILFESL'],errors='coerce')"
   ]
  },
  {
   "cell_type": "code",
   "execution_count": 40,
   "id": "c1e295fa",
   "metadata": {},
   "outputs": [
    {
     "data": {
      "text/plain": [
       "<AxesSubplot:title={'center':'CPI aux Etats-Unis entre 2018 et 2021'}, xlabel='DATE'>"
      ]
     },
     "execution_count": 40,
     "metadata": {},
     "output_type": "execute_result"
    },
    {
     "data": {
      "image/png": "[encoded data removed]",
      "text/plain": [
       "<Figure size 432x288 with 1 Axes>"
      ]
     },
     "metadata": {
      "needs_background": "light"
     },
     "output_type": "display_data"
    }
   ],
   "source": [
    "df_CPI.plot(kind='line',x='DATE',y=\"CPILFESL\",title=\"CPI aux Etats-Unis entre 2018 et 2021\")"
   ]
  },
  {
   "cell_type": "code",
   "execution_count": null,
   "id": "35e049f2",
   "metadata": {},
   "outputs": [],
   "source": [
    "def d"
   ]
  },
  {
   "cell_type": "markdown",
   "id": "048db2f7",
   "metadata": {},
   "source": [
    " "
   ]
  },
  {
   "cell_type": "markdown",
   "id": "3de65b39",
   "metadata": {},
   "source": [
    "# IV - Moyennes trimestrielles de la tendance du thème sur Reddit de 2018 à 2021"
   ]
  },
  {
   "cell_type": "markdown",
   "id": "645d7dfc",
   "metadata": {},
   "source": [
    " "
   ]
  },
  {
   "cell_type": "code",
   "execution_count": 16,
   "id": "bd8baad0",
   "metadata": {},
   "outputs": [],
   "source": [
    "df_quarter = copy.deepcopy(df)\n",
    "\n",
    "def to_quarter(t):\n",
    "    T = str(t)\n",
    "    if int(T[5:7]) < 4:\n",
    "        return pd.Timestamp(T[:5]+\"01\")\n",
    "    elif int(T[5:7]) < 7:\n",
    "        return pd.Timestamp(T[:5]+\"04\")\n",
    "    elif int(T[5:7]) < 10:\n",
    "        return pd.Timestamp(T[:5]+\"07\")\n",
    "    else:\n",
    "        return pd.Timestamp(T[:5]+\"10\")\n",
    "    \n",
    "df_quarter['date'] = df_quarter['date'].apply(to_quarter) \n",
    "\n",
    "df_quarter = df_quarter.groupby(by='date').sum().groupby(level=[0]).cumsum()\n",
    "\n",
    "df_quarter = df_quarter.reset_index()"
   ]
  },
  {
   "cell_type": "code",
   "execution_count": 17,
   "id": "9fe6b0f2",
   "metadata": {},
   "outputs": [
    {
     "data": {
      "text/plain": [
       "<AxesSubplot:title={'center':'Tendance trimestrielle de la tendance du post entre 2018 et 2021'}, xlabel='date'>"
      ]
     },
     "execution_count": 17,
     "metadata": {},
     "output_type": "execute_result"
    },
    {
     "data": {
      "image/png": "[encoded data removed]",
      "text/plain": [
       "<Figure size 432x288 with 1 Axes>"
      ]
     },
     "metadata": {
      "needs_background": "light"
     },
     "output_type": "display_data"
    }
   ],
   "source": [
    "df_quarter.plot(kind='line',x='date',y='score',title='Tendance trimestrielle de la tendance du post entre 2018 et 2021')"
   ]
  },
  {
   "cell_type": "markdown",
   "id": "b837a538",
   "metadata": {},
   "source": [
    " "
   ]
  },
  {
   "cell_type": "markdown",
   "id": "565a257d",
   "metadata": {},
   "source": [
    "# V - Taux de croissance du PIB et le score trimestriel"
   ]
  },
  {
   "cell_type": "markdown",
   "id": "832118f1",
   "metadata": {},
   "source": [
    "  "
   ]
  },
  {
   "cell_type": "code",
   "execution_count": 18,
   "id": "b670dd29",
   "metadata": {},
   "outputs": [],
   "source": [
    "gdp_np = gdp_growth['GDP'].to_numpy()\n",
    "score_np = df_quarter['score'].to_numpy()\n",
    "\n",
    "gdp_np = (gdp_np - np.mean(gdp_np))/np.std(gdp_np)\n",
    "score_np = (score_np - np.mean(score_np))/np.std(score_np)\n",
    "\n",
    "gdp_np = gdp_np.reshape((-1, 1))"
   ]
  },
  {
   "cell_type": "code",
   "execution_count": 21,
   "id": "79ee6c4d",
   "metadata": {},
   "outputs": [
    {
     "data": {
      "image/png": "[encoded data removed]",
      "text/plain": [
       "<Figure size 432x288 with 1 Axes>"
      ]
     },
     "metadata": {
      "needs_background": "light"
     },
     "output_type": "display_data"
    }
   ],
   "source": [
    "import matplotlib.pyplot as plt\n",
    "\n",
    "plt.scatter(range(16),gdp_np)\n",
    "plt.scatter(range(16),score_np)\n",
    "plt.show()"
   ]
  },
  {
   "cell_type": "markdown",
   "id": "c2fd1964",
   "metadata": {},
   "source": [
    " "
   ]
  },
  {
   "cell_type": "markdown",
   "id": "169ea748",
   "metadata": {},
   "source": [
    " # Analyse des sentiments"
   ]
  },
  {
   "cell_type": "markdown",
   "id": "ce7389c9",
   "metadata": {},
   "source": [
    " "
   ]
  },
  {
   "cell_type": "code",
   "execution_count": 23,
   "id": "4389bcdc",
   "metadata": {
    "collapsed": true
   },
   "outputs": [
    {
     "ename": "KeyError",
     "evalue": "'created_utc'",
     "output_type": "error",
     "traceback": [
      "\u001b[1;31m---------------------------------------------------------------------------\u001b[0m",
      "\u001b[1;31mKeyError\u001b[0m                                  Traceback (most recent call last)",
      "\u001b[1;32m~\\anaconda3\\lib\\site-packages\\pandas\\core\\indexes\\base.py\u001b[0m in \u001b[0;36mget_loc\u001b[1;34m(self, key, method, tolerance)\u001b[0m\n\u001b[0;32m   3079\u001b[0m             \u001b[1;32mtry\u001b[0m\u001b[1;33m:\u001b[0m\u001b[1;33m\u001b[0m\u001b[1;33m\u001b[0m\u001b[0m\n\u001b[1;32m-> 3080\u001b[1;33m                 \u001b[1;32mreturn\u001b[0m \u001b[0mself\u001b[0m\u001b[1;33m.\u001b[0m\u001b[0m_engine\u001b[0m\u001b[1;33m.\u001b[0m\u001b[0mget_loc\u001b[0m\u001b[1;33m(\u001b[0m\u001b[0mcasted_key\u001b[0m\u001b[1;33m)\u001b[0m\u001b[1;33m\u001b[0m\u001b[1;33m\u001b[0m\u001b[0m\n\u001b[0m\u001b[0;32m   3081\u001b[0m             \u001b[1;32mexcept\u001b[0m \u001b[0mKeyError\u001b[0m \u001b[1;32mas\u001b[0m \u001b[0merr\u001b[0m\u001b[1;33m:\u001b[0m\u001b[1;33m\u001b[0m\u001b[1;33m\u001b[0m\u001b[0m\n",
      "\u001b[1;32mpandas\\_libs\\index.pyx\u001b[0m in \u001b[0;36mpandas._libs.index.IndexEngine.get_loc\u001b[1;34m()\u001b[0m\n",
      "\u001b[1;32mpandas\\_libs\\index.pyx\u001b[0m in \u001b[0;36mpandas._libs.index.IndexEngine.get_loc\u001b[1;34m()\u001b[0m\n",
      "\u001b[1;32mpandas\\_libs\\hashtable_class_helper.pxi\u001b[0m in \u001b[0;36mpandas._libs.hashtable.PyObjectHashTable.get_item\u001b[1;34m()\u001b[0m\n",
      "\u001b[1;32mpandas\\_libs\\hashtable_class_helper.pxi\u001b[0m in \u001b[0;36mpandas._libs.hashtable.PyObjectHashTable.get_item\u001b[1;34m()\u001b[0m\n",
      "\u001b[1;31mKeyError\u001b[0m: 'created_utc'",
      "\nThe above exception was the direct cause of the following exception:\n",
      "\u001b[1;31mKeyError\u001b[0m                                  Traceback (most recent call last)",
      "\u001b[1;32m<ipython-input-23-ca200e4e0376>\u001b[0m in \u001b[0;36m<module>\u001b[1;34m\u001b[0m\n\u001b[1;32m----> 1\u001b[1;33m \u001b[0mdf\u001b[0m\u001b[1;33m[\u001b[0m\u001b[1;34m'date'\u001b[0m\u001b[1;33m]\u001b[0m \u001b[1;33m=\u001b[0m \u001b[0mpd\u001b[0m\u001b[1;33m.\u001b[0m\u001b[0mto_datetime\u001b[0m\u001b[1;33m(\u001b[0m\u001b[0mdf\u001b[0m\u001b[1;33m[\u001b[0m\u001b[1;34m'created_utc'\u001b[0m\u001b[1;33m]\u001b[0m\u001b[1;33m,\u001b[0m \u001b[0mutc\u001b[0m\u001b[1;33m=\u001b[0m\u001b[1;32mTrue\u001b[0m\u001b[1;33m,\u001b[0m \u001b[0munit\u001b[0m\u001b[1;33m=\u001b[0m\u001b[1;34m's'\u001b[0m\u001b[1;33m)\u001b[0m\u001b[1;33m\u001b[0m\u001b[1;33m\u001b[0m\u001b[0m\n\u001b[0m\u001b[0;32m      2\u001b[0m \u001b[0mdf\u001b[0m\u001b[1;33m[\u001b[0m\u001b[1;33m[\u001b[0m\u001b[1;34m'author'\u001b[0m\u001b[1;33m,\u001b[0m \u001b[1;34m'date'\u001b[0m\u001b[1;33m,\u001b[0m \u001b[1;34m'title'\u001b[0m\u001b[1;33m,\u001b[0m \u001b[1;34m'selftext'\u001b[0m\u001b[1;33m,\u001b[0m \u001b[1;34m'url'\u001b[0m\u001b[1;33m,\u001b[0m \u001b[1;34m'subreddit'\u001b[0m\u001b[1;33m,\u001b[0m \u001b[1;34m'score'\u001b[0m\u001b[1;33m,\u001b[0m \u001b[1;34m'num_comments'\u001b[0m\u001b[1;33m,\u001b[0m \u001b[1;34m'num_crossposts'\u001b[0m\u001b[1;33m]\u001b[0m\u001b[1;33m]\u001b[0m\u001b[1;33m.\u001b[0m\u001b[0mhead\u001b[0m\u001b[1;33m(\u001b[0m\u001b[1;36m10\u001b[0m\u001b[1;33m)\u001b[0m\u001b[1;33m\u001b[0m\u001b[1;33m\u001b[0m\u001b[0m\n",
      "\u001b[1;32m~\\anaconda3\\lib\\site-packages\\pandas\\core\\frame.py\u001b[0m in \u001b[0;36m__getitem__\u001b[1;34m(self, key)\u001b[0m\n\u001b[0;32m   3022\u001b[0m             \u001b[1;32mif\u001b[0m \u001b[0mself\u001b[0m\u001b[1;33m.\u001b[0m\u001b[0mcolumns\u001b[0m\u001b[1;33m.\u001b[0m\u001b[0mnlevels\u001b[0m \u001b[1;33m>\u001b[0m \u001b[1;36m1\u001b[0m\u001b[1;33m:\u001b[0m\u001b[1;33m\u001b[0m\u001b[1;33m\u001b[0m\u001b[0m\n\u001b[0;32m   3023\u001b[0m                 \u001b[1;32mreturn\u001b[0m \u001b[0mself\u001b[0m\u001b[1;33m.\u001b[0m\u001b[0m_getitem_multilevel\u001b[0m\u001b[1;33m(\u001b[0m\u001b[0mkey\u001b[0m\u001b[1;33m)\u001b[0m\u001b[1;33m\u001b[0m\u001b[1;33m\u001b[0m\u001b[0m\n\u001b[1;32m-> 3024\u001b[1;33m             \u001b[0mindexer\u001b[0m \u001b[1;33m=\u001b[0m \u001b[0mself\u001b[0m\u001b[1;33m.\u001b[0m\u001b[0mcolumns\u001b[0m\u001b[1;33m.\u001b[0m\u001b[0mget_loc\u001b[0m\u001b[1;33m(\u001b[0m\u001b[0mkey\u001b[0m\u001b[1;33m)\u001b[0m\u001b[1;33m\u001b[0m\u001b[1;33m\u001b[0m\u001b[0m\n\u001b[0m\u001b[0;32m   3025\u001b[0m             \u001b[1;32mif\u001b[0m \u001b[0mis_integer\u001b[0m\u001b[1;33m(\u001b[0m\u001b[0mindexer\u001b[0m\u001b[1;33m)\u001b[0m\u001b[1;33m:\u001b[0m\u001b[1;33m\u001b[0m\u001b[1;33m\u001b[0m\u001b[0m\n\u001b[0;32m   3026\u001b[0m                 \u001b[0mindexer\u001b[0m \u001b[1;33m=\u001b[0m \u001b[1;33m[\u001b[0m\u001b[0mindexer\u001b[0m\u001b[1;33m]\u001b[0m\u001b[1;33m\u001b[0m\u001b[1;33m\u001b[0m\u001b[0m\n",
      "\u001b[1;32m~\\anaconda3\\lib\\site-packages\\pandas\\core\\indexes\\base.py\u001b[0m in \u001b[0;36mget_loc\u001b[1;34m(self, key, method, tolerance)\u001b[0m\n\u001b[0;32m   3080\u001b[0m                 \u001b[1;32mreturn\u001b[0m \u001b[0mself\u001b[0m\u001b[1;33m.\u001b[0m\u001b[0m_engine\u001b[0m\u001b[1;33m.\u001b[0m\u001b[0mget_loc\u001b[0m\u001b[1;33m(\u001b[0m\u001b[0mcasted_key\u001b[0m\u001b[1;33m)\u001b[0m\u001b[1;33m\u001b[0m\u001b[1;33m\u001b[0m\u001b[0m\n\u001b[0;32m   3081\u001b[0m             \u001b[1;32mexcept\u001b[0m \u001b[0mKeyError\u001b[0m \u001b[1;32mas\u001b[0m \u001b[0merr\u001b[0m\u001b[1;33m:\u001b[0m\u001b[1;33m\u001b[0m\u001b[1;33m\u001b[0m\u001b[0m\n\u001b[1;32m-> 3082\u001b[1;33m                 \u001b[1;32mraise\u001b[0m \u001b[0mKeyError\u001b[0m\u001b[1;33m(\u001b[0m\u001b[0mkey\u001b[0m\u001b[1;33m)\u001b[0m \u001b[1;32mfrom\u001b[0m \u001b[0merr\u001b[0m\u001b[1;33m\u001b[0m\u001b[1;33m\u001b[0m\u001b[0m\n\u001b[0m\u001b[0;32m   3083\u001b[0m \u001b[1;33m\u001b[0m\u001b[0m\n\u001b[0;32m   3084\u001b[0m         \u001b[1;32mif\u001b[0m \u001b[0mtolerance\u001b[0m \u001b[1;32mis\u001b[0m \u001b[1;32mnot\u001b[0m \u001b[1;32mNone\u001b[0m\u001b[1;33m:\u001b[0m\u001b[1;33m\u001b[0m\u001b[1;33m\u001b[0m\u001b[0m\n",
      "\u001b[1;31mKeyError\u001b[0m: 'created_utc'"
     ]
    }
   ],
   "source": [
    "\n",
    "df['date'] = pd.to_datetime(df['created_utc'], utc=True, unit='s')\n",
    "df[['author', 'date', 'title', 'selftext', 'url', 'subreddit', 'score', 'num_comments', 'num_crossposts']].head(10)"
   ]
  },
  {
   "cell_type": "code",
   "execution_count": 37,
   "id": "e8e9d48d",
   "metadata": {},
   "outputs": [],
   "source": [
    "start_epoch=int(datetime(2021, 10, 1).timestamp())\n",
    "end_epoch=int(datetime(2021, 12, 1).timestamp())\n",
    "\n",
    "api_request_generator = api.search_comments(\n",
    "                            after=start_epoch,\n",
    "                            before = end_epoch,\n",
    "                            limit=10000,\n",
    "                            score = \">1000\")\n",
    "\n",
    "df2 = pd.DataFrame([submission.d_ for submission in api_request_generator])\n",
    "\n",
    "df2[\"created_utc\"] = df2[\"created_utc\"].apply(datetime.fromtimestamp)"
   ]
  },
  {
   "cell_type": "code",
   "execution_count": 38,
   "id": "8e1b3444",
   "metadata": {
    "scrolled": true
   },
   "outputs": [
    {
     "data": {
      "text/plain": [
       "0          lol she's doing press, she loves the attention\n",
       "1                                 I'm really sorry man :(\n",
       "2                       I'd be head first out that window\n",
       "3            Nah, that's dollar store daenerys targaryen.\n",
       "4       Nope. Hence why there are only a few places th...\n",
       "                              ...                        \n",
       "9993                      \"You may now bench the groom. \"\n",
       "9994                 We’re all disappointed in you, Doug.\n",
       "9995    Surprise. Not sure what OP thinks milk is made...\n",
       "9996    Aw, don't be mean to the little squid thingey....\n",
       "9997    A heartfelt apology would go so much further w...\n",
       "Name: body, Length: 9998, dtype: object"
      ]
     },
     "execution_count": 38,
     "metadata": {},
     "output_type": "execute_result"
    }
   ],
   "source": [
    "df2['body']"
   ]
  },
  {
   "cell_type": "code",
   "execution_count": null,
   "id": "216e9180",
   "metadata": {},
   "outputs": [],
   "source": []
  },
  {
   "cell_type": "code",
   "execution_count": 42,
   "id": "406325b4",
   "metadata": {},
   "outputs": [],
   "source": [
    "!pip install -q -U tensorflow-text"
   ]
  },
  {
   "cell_type": "code",
   "execution_count": 44,
   "id": "9989d756",
   "metadata": {
    "collapsed": true
   },
   "outputs": [
    {
     "name": "stdout",
     "output_type": "stream",
     "text": [
      "Note: you may need to restart the kernel to use updated packages.\n"
     ]
    },
    {
     "name": "stderr",
     "output_type": "stream",
     "text": [
      "  ERROR: Command errored out with exit status 1:\n",
      "   command: 'C:\\Users\\nicol\\anaconda3\\python.exe' -u -c 'import sys, setuptools, tokenize; sys.argv[0] = '\"'\"'C:\\\\Users\\\\nicol\\\\AppData\\\\Local\\\\Temp\\\\pip-install-6oo1vd2s\\\\pycocotools_7e4adfbed6734090a4fd4630134a0dcb\\\\setup.py'\"'\"'; __file__='\"'\"'C:\\\\Users\\\\nicol\\\\AppData\\\\Local\\\\Temp\\\\pip-install-6oo1vd2s\\\\pycocotools_7e4adfbed6734090a4fd4630134a0dcb\\\\setup.py'\"'\"';f=getattr(tokenize, '\"'\"'open'\"'\"', open)(__file__);code=f.read().replace('\"'\"'\\r\\n'\"'\"', '\"'\"'\\n'\"'\"');f.close();exec(compile(code, __file__, '\"'\"'exec'\"'\"'))' bdist_wheel -d 'C:\\Users\\nicol\\AppData\\Local\\Temp\\pip-wheel-b3ecxr5i'\n",
      "       cwd: C:\\Users\\nicol\\AppData\\Local\\Temp\\pip-install-6oo1vd2s\\pycocotools_7e4adfbed6734090a4fd4630134a0dcb\\\n",
      "  Complete output (14 lines):\n",
      "  running bdist_wheel\n",
      "  running build\n",
      "  running build_py\n",
      "  creating build\n",
      "  creating build\\lib.win-amd64-3.8\n",
      "  creating build\\lib.win-amd64-3.8\\pycocotools\n",
      "  copying pycocotools\\coco.py -> build\\lib.win-amd64-3.8\\pycocotools\n",
      "  copying pycocotools\\cocoeval.py -> build\\lib.win-amd64-3.8\\pycocotools\n",
      "  copying pycocotools\\mask.py -> build\\lib.win-amd64-3.8\\pycocotools\n",
      "  copying pycocotools\\__init__.py -> build\\lib.win-amd64-3.8\\pycocotools\n",
      "  running build_ext\n",
      "  skipping 'pycocotools\\_mask.c' Cython extension (up-to-date)\n",
      "  building 'pycocotools._mask' extension\n",
      "  error: Microsoft Visual C++ 14.0 or greater is required. Get it with \"Microsoft C++ Build Tools\": https://visualstudio.microsoft.com/visual-cpp-build-tools/\n",
      "  ----------------------------------------\n",
      "  ERROR: Failed building wheel for pycocotools\n",
      "    ERROR: Command errored out with exit status 1:\n",
      "     command: 'C:\\Users\\nicol\\anaconda3\\python.exe' -u -c 'import sys, setuptools, tokenize; sys.argv[0] = '\"'\"'C:\\\\Users\\\\nicol\\\\AppData\\\\Local\\\\Temp\\\\pip-install-6oo1vd2s\\\\pycocotools_7e4adfbed6734090a4fd4630134a0dcb\\\\setup.py'\"'\"'; __file__='\"'\"'C:\\\\Users\\\\nicol\\\\AppData\\\\Local\\\\Temp\\\\pip-install-6oo1vd2s\\\\pycocotools_7e4adfbed6734090a4fd4630134a0dcb\\\\setup.py'\"'\"';f=getattr(tokenize, '\"'\"'open'\"'\"', open)(__file__);code=f.read().replace('\"'\"'\\r\\n'\"'\"', '\"'\"'\\n'\"'\"');f.close();exec(compile(code, __file__, '\"'\"'exec'\"'\"'))' install --record 'C:\\Users\\nicol\\AppData\\Local\\Temp\\pip-record-7u6j9gsg\\install-record.txt' --single-version-externally-managed --compile --install-headers 'C:\\Users\\nicol\\anaconda3\\Include\\pycocotools'\n",
      "         cwd: C:\\Users\\nicol\\AppData\\Local\\Temp\\pip-install-6oo1vd2s\\pycocotools_7e4adfbed6734090a4fd4630134a0dcb\\\n",
      "    Complete output (14 lines):\n",
      "    running install\n",
      "    running build\n",
      "    running build_py\n",
      "    creating build\n",
      "    creating build\\lib.win-amd64-3.8\n",
      "    creating build\\lib.win-amd64-3.8\\pycocotools\n",
      "    copying pycocotools\\coco.py -> build\\lib.win-amd64-3.8\\pycocotools\n",
      "    copying pycocotools\\cocoeval.py -> build\\lib.win-amd64-3.8\\pycocotools\n",
      "    copying pycocotools\\mask.py -> build\\lib.win-amd64-3.8\\pycocotools\n",
      "    copying pycocotools\\__init__.py -> build\\lib.win-amd64-3.8\\pycocotools\n",
      "    running build_ext\n",
      "    skipping 'pycocotools\\_mask.c' Cython extension (up-to-date)\n",
      "    building 'pycocotools._mask' extension\n",
      "    error: Microsoft Visual C++ 14.0 or greater is required. Get it with \"Microsoft C++ Build Tools\": https://visualstudio.microsoft.com/visual-cpp-build-tools/\n",
      "    ----------------------------------------\n",
      "ERROR: Command errored out with exit status 1: 'C:\\Users\\nicol\\anaconda3\\python.exe' -u -c 'import sys, setuptools, tokenize; sys.argv[0] = '\"'\"'C:\\\\Users\\\\nicol\\\\AppData\\\\Local\\\\Temp\\\\pip-install-6oo1vd2s\\\\pycocotools_7e4adfbed6734090a4fd4630134a0dcb\\\\setup.py'\"'\"'; __file__='\"'\"'C:\\\\Users\\\\nicol\\\\AppData\\\\Local\\\\Temp\\\\pip-install-6oo1vd2s\\\\pycocotools_7e4adfbed6734090a4fd4630134a0dcb\\\\setup.py'\"'\"';f=getattr(tokenize, '\"'\"'open'\"'\"', open)(__file__);code=f.read().replace('\"'\"'\\r\\n'\"'\"', '\"'\"'\\n'\"'\"');f.close();exec(compile(code, __file__, '\"'\"'exec'\"'\"'))' install --record 'C:\\Users\\nicol\\AppData\\Local\\Temp\\pip-record-7u6j9gsg\\install-record.txt' --single-version-externally-managed --compile --install-headers 'C:\\Users\\nicol\\anaconda3\\Include\\pycocotools' Check the logs for full command output.\n"
     ]
    }
   ],
   "source": [
    "pip install -q tf-models-official"
   ]
  },
  {
   "cell_type": "code",
   "execution_count": 45,
   "id": "835729c3",
   "metadata": {},
   "outputs": [
    {
     "ename": "ModuleNotFoundError",
     "evalue": "No module named 'official'",
     "output_type": "error",
     "traceback": [
      "\u001b[1;31m---------------------------------------------------------------------------\u001b[0m",
      "\u001b[1;31mModuleNotFoundError\u001b[0m                       Traceback (most recent call last)",
      "\u001b[1;32m<ipython-input-45-805c28e28fd5>\u001b[0m in \u001b[0;36m<module>\u001b[1;34m\u001b[0m\n\u001b[0;32m      5\u001b[0m \u001b[1;32mimport\u001b[0m \u001b[0mtensorflow_hub\u001b[0m \u001b[1;32mas\u001b[0m \u001b[0mhub\u001b[0m\u001b[1;33m\u001b[0m\u001b[1;33m\u001b[0m\u001b[0m\n\u001b[0;32m      6\u001b[0m \u001b[1;32mimport\u001b[0m \u001b[0mtensorflow_text\u001b[0m \u001b[1;32mas\u001b[0m \u001b[0mtext\u001b[0m\u001b[1;33m\u001b[0m\u001b[1;33m\u001b[0m\u001b[0m\n\u001b[1;32m----> 7\u001b[1;33m \u001b[1;32mfrom\u001b[0m \u001b[0mofficial\u001b[0m\u001b[1;33m.\u001b[0m\u001b[0mnlp\u001b[0m \u001b[1;32mimport\u001b[0m \u001b[0moptimization\u001b[0m  \u001b[1;31m# to create AdamW optimizer\u001b[0m\u001b[1;33m\u001b[0m\u001b[1;33m\u001b[0m\u001b[0m\n\u001b[0m\u001b[0;32m      8\u001b[0m \u001b[1;33m\u001b[0m\u001b[0m\n\u001b[0;32m      9\u001b[0m \u001b[1;32mimport\u001b[0m \u001b[0mmatplotlib\u001b[0m\u001b[1;33m.\u001b[0m\u001b[0mpyplot\u001b[0m \u001b[1;32mas\u001b[0m \u001b[0mplt\u001b[0m\u001b[1;33m\u001b[0m\u001b[1;33m\u001b[0m\u001b[0m\n",
      "\u001b[1;31mModuleNotFoundError\u001b[0m: No module named 'official'"
     ]
    }
   ],
   "source": [
    "import os\n",
    "import shutil\n",
    "\n",
    "import tensorflow as tf\n",
    "import tensorflow_hub as hub\n",
    "import tensorflow_text as text\n",
    "from official.nlp import optimization  # to create AdamW optimizer\n",
    "\n",
    "import matplotlib.pyplot as plt\n",
    "\n",
    "tf.get_logger().setLevel('ERROR')"
   ]
  },
  {
   "cell_type": "code",
   "execution_count": null,
   "id": "fb82857c",
   "metadata": {},
   "outputs": [],
   "source": []
  }
 ],
 "metadata": {
  "kernelspec": {
   "display_name": "Python 3",
   "language": "python",
   "name": "python3"
  },
  "language_info": {
   "codemirror_mode": {
    "name": "ipython",
    "version": 3
   },
   "file_extension": ".py",
   "mimetype": "text/x-python",
   "name": "python",
   "nbconvert_exporter": "python",
   "pygments_lexer": "ipython3",
   "version": "3.8.8"
  }
 },
 "nbformat": 4,
 "nbformat_minor": 5
}
