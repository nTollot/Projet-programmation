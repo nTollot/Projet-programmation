{
 "cells": [
  {
   "cell_type": "markdown",
   "id": "1bcc92ba",
   "metadata": {},
   "source": [
    "# Web scraping on Reddit"
   ]
  },
  {
   "cell_type": "markdown",
   "id": "76dbf128",
   "metadata": {},
   "source": [
    "# "
   ]
  },
  {
   "cell_type": "code",
   "execution_count": null,
   "id": "bf0777c6",
   "metadata": {},
   "outputs": [],
   "source": [
    "#!pip install psaw"
   ]
  },
  {
   "cell_type": "code",
   "execution_count": 1,
   "id": "9f26632e",
   "metadata": {},
   "outputs": [],
   "source": [
    "import copy\n",
    "import numpy as np\n",
    "import pandas as pd\n",
    "import time\n",
    "\n",
    "from datetime import datetime \n",
    "from psaw import PushshiftAPI"
   ]
  },
  {
   "cell_type": "markdown",
   "id": "b03f23e6",
   "metadata": {},
   "source": [
    " "
   ]
  },
  {
   "cell_type": "markdown",
   "id": "d5be705e",
   "metadata": {},
   "source": [
    "# I - Importation des données"
   ]
  },
  {
   "cell_type": "code",
   "execution_count": 3,
   "id": "01967da4",
   "metadata": {},
   "outputs": [],
   "source": [
    "api = PushshiftAPI()"
   ]
  },
  {
   "cell_type": "code",
   "execution_count": null,
   "id": "0cac14c6",
   "metadata": {},
   "outputs": [
    {
     "name": "stderr",
     "output_type": "stream",
     "text": [
      "C:\\Users\\nicol\\anaconda3\\lib\\site-packages\\psaw\\PushshiftAPI.py:252: UserWarning: Not all PushShift shards are active. Query results may be incomplete\n",
      "  warnings.warn(shards_down_message)\n"
     ]
    }
   ],
   "source": [
    "#search for posts of the year 2021\n",
    "start_epoch_2021 = int(datetime(2021, 1, 1).timestamp())\n",
    "end_epoch_2021 = int(datetime(2021, 12, 29).timestamp())\n",
    "\n",
    "api_request_generator_21 = api.search_submissions(\n",
    "    after=start_epoch_2021,\n",
    "    before=end_epoch_2021,\n",
    "    subreddit='antiwork',\n",
    "    limit=1000,\n",
    "    score=\">50\"\n",
    ")\n",
    "\n",
    "df21 = pd.DataFrame([submission.d_ for submission in api_request_generator_21])\n",
    "\n",
    "df21[\"created_utc\"] = df21[\"created_utc\"].apply(datetime.fromtimestamp)\n",
    "\n",
    "time.sleep(1)\n",
    "\n",
    "\n",
    "#search for posts of the year 2020\n",
    "\n",
    "start_epoch_2020 = int(datetime(2020, 1, 1).timestamp())\n",
    "end_epoch_2020 = int(datetime(2020, 12, 31).timestamp())\n",
    "\n",
    "api_request_generator_20 = api.search_submissions(\n",
    "    after=start_epoch_2020,\n",
    "    before=end_epoch_2020,\n",
    "    subreddit='antiwork',\n",
    "    limit=1000,\n",
    "    score=\">50\"\n",
    ")\n",
    "\n",
    "df20 = pd.DataFrame([submission.d_ for submission in api_request_generator_20])\n",
    "\n",
    "df20[\"created_utc\"] = df20[\"created_utc\"].apply(datetime.fromtimestamp)\n",
    "\n",
    "time.sleep(1)\n",
    "\n",
    "\n",
    "#search for posts of the year 2019\n",
    "\n",
    "start_epoch_2019 = int(datetime(2019, 1, 1).timestamp())\n",
    "end_epoch_2019 = int(datetime(2019, 12, 31).timestamp())\n",
    "\n",
    "api_request_generator_19 = api.search_submissions(\n",
    "    after=start_epoch_2019,\n",
    "    before=end_epoch_2019,\n",
    "    subreddit='antiwork',\n",
    "    limit=2000,\n",
    "    score=\">50\"\n",
    ")\n",
    "\n",
    "df19 = pd.DataFrame([submission.d_ for submission in api_request_generator_19])\n",
    "\n",
    "df19[\"created_utc\"] = df19[\"created_utc\"].apply(datetime.fromtimestamp)\n",
    "\n",
    "time.sleep(1)\n",
    "\n",
    "\n",
    "#search for posts of the year 2018\n",
    "\n",
    "start_epoch_2018 = int(datetime(2018, 1, 1).timestamp())\n",
    "end_epoch_2018 = int(datetime(2018, 12, 31).timestamp())\n",
    "\n",
    "api_request_generator_18 = api.search_submissions(\n",
    "    after=start_epoch_2018,\n",
    "    before=end_epoch_2018,\n",
    "    subreddit='antiwork',\n",
    "    limit=1000,\n",
    "    score=\">50\"\n",
    ")\n",
    "\n",
    "df18 = pd.DataFrame([submission.d_ for submission in api_request_generator_18])\n",
    "\n",
    "df18[\"created_utc\"] = df18[\"created_utc\"].apply(datetime.fromtimestamp)"
   ]
  },
  {
   "cell_type": "code",
   "execution_count": 5,
   "id": "143fabed",
   "metadata": {},
   "outputs": [],
   "source": [
    "df21 = df21[['score','created_utc']]\n",
    "df20 = df20[['score','created_utc']]\n",
    "df19 = df19[['score','created_utc']]\n",
    "df18 = df18[['score','created_utc']]"
   ]
  },
  {
   "cell_type": "code",
   "execution_count": 6,
   "id": "82d2b1c3",
   "metadata": {},
   "outputs": [
    {
     "data": {
      "text/html": [
       "<div>\n",
       "<style scoped>\n",
       "    .dataframe tbody tr th:only-of-type {\n",
       "        vertical-align: middle;\n",
       "    }\n",
       "\n",
       "    .dataframe tbody tr th {\n",
       "        vertical-align: top;\n",
       "    }\n",
       "\n",
       "    .dataframe thead th {\n",
       "        text-align: right;\n",
       "    }\n",
       "</style>\n",
       "<table border=\"1\" class=\"dataframe\">\n",
       "  <thead>\n",
       "    <tr style=\"text-align: right;\">\n",
       "      <th></th>\n",
       "      <th>score</th>\n",
       "      <th>date</th>\n",
       "    </tr>\n",
       "  </thead>\n",
       "  <tbody>\n",
       "    <tr>\n",
       "      <th>0</th>\n",
       "      <td>57</td>\n",
       "      <td>2021-12-09 07:08:38</td>\n",
       "    </tr>\n",
       "    <tr>\n",
       "      <th>1</th>\n",
       "      <td>81</td>\n",
       "      <td>2021-12-09 06:22:33</td>\n",
       "    </tr>\n",
       "    <tr>\n",
       "      <th>2</th>\n",
       "      <td>68</td>\n",
       "      <td>2021-12-09 06:21:43</td>\n",
       "    </tr>\n",
       "    <tr>\n",
       "      <th>3</th>\n",
       "      <td>80</td>\n",
       "      <td>2021-12-09 06:10:49</td>\n",
       "    </tr>\n",
       "    <tr>\n",
       "      <th>4</th>\n",
       "      <td>221</td>\n",
       "      <td>2021-12-09 06:09:35</td>\n",
       "    </tr>\n",
       "  </tbody>\n",
       "</table>\n",
       "</div>"
      ],
      "text/plain": [
       "   score                date\n",
       "0     57 2021-12-09 07:08:38\n",
       "1     81 2021-12-09 06:22:33\n",
       "2     68 2021-12-09 06:21:43\n",
       "3     80 2021-12-09 06:10:49\n",
       "4    221 2021-12-09 06:09:35"
      ]
     },
     "execution_count": 6,
     "metadata": {},
     "output_type": "execute_result"
    }
   ],
   "source": [
    "df = pd.concat([df21,df20,df19,df18])\n",
    "df = df.rename(columns={'created_utc':'date'})\n",
    "df.head()"
   ]
  },
  {
   "cell_type": "code",
   "execution_count": 7,
   "id": "dcec967c",
   "metadata": {},
   "outputs": [
    {
     "data": {
      "text/plain": [
       "(1667, 2)"
      ]
     },
     "execution_count": 7,
     "metadata": {},
     "output_type": "execute_result"
    }
   ],
   "source": [
    "df19.shape"
   ]
  },
  {
   "cell_type": "markdown",
   "id": "fdbbd306",
   "metadata": {},
   "source": [
    " "
   ]
  },
  {
   "cell_type": "markdown",
   "id": "d2758be9",
   "metadata": {},
   "source": [
    "# II - Visualisation des données "
   ]
  },
  {
   "cell_type": "code",
   "execution_count": 8,
   "id": "81b3be96",
   "metadata": {},
   "outputs": [
    {
     "data": {
      "text/plain": [
       "<AxesSubplot:title={'center':'Score des posts reddit sur le thème antiwork entre 2018 et 2021'}, xlabel='date', ylabel='score'>"
      ]
     },
     "execution_count": 8,
     "metadata": {},
     "output_type": "execute_result"
    },
    {
     "data": {
      "image/png": "[encoded data removed]",
      "text/plain": [
       "<Figure size 432x288 with 1 Axes>"
      ]
     },
     "metadata": {
      "needs_background": "light"
     },
     "output_type": "display_data"
    }
   ],
   "source": [
    "df.plot(kind='scatter',x='date',y='score',logy=True,title='Score des posts reddit sur le thème antiwork entre 2018 et 2021')"
   ]
  },
  {
   "cell_type": "markdown",
   "id": "ece34c94",
   "metadata": {},
   "source": [
    " "
   ]
  },
  {
   "cell_type": "markdown",
   "id": "287784b7",
   "metadata": {},
   "source": [
    "Ensuite, on va rendre les variables moins abrutes en créant une variable continue qui à une date donnée associe le score moyen des posts reddit sur une période fixe (un jour puis un mois)."
   ]
  },
  {
   "cell_type": "markdown",
   "id": "07e9fbd4",
   "metadata": {},
   "source": [
    " On envisage d'analyser la corrélation entre la situation d'économie et la tendance/ la popularité de différents subreddit sur le site internet \"Reddit\", par exemple la difficulté économique aux Etats Unis incite la popularité de subreddit \"Antiwork\". Au niveau de source de données, on envisage d'utiliser Reddit API pour acquérir les données sur Reddit, et le site internet de World Bank pour les données économiques."
   ]
  },
  {
   "cell_type": "markdown",
   "id": "901b42d7",
   "metadata": {},
   "source": [
    " "
   ]
  },
  {
   "cell_type": "code",
   "execution_count": 65,
   "id": "1dccf9e6",
   "metadata": {},
   "outputs": [],
   "source": [
    "df_day = copy.deepcopy(df)\n",
    "\n",
    "def delete_hour(t):\n",
    "    T = str(t)\n",
    "    return pd.Timestamp(T[:10])\n",
    "    \n",
    "df_day['date'] = df_day['date'].apply(delete_hour) \n",
    "\n",
    "df_day = df_day.groupby(by='date').sum().groupby(level=[0]).cumsum()\n",
    "\n",
    "df_day = df_day.reset_index()"
   ]
  },
  {
   "cell_type": "code",
   "execution_count": 66,
   "id": "ff125497",
   "metadata": {},
   "outputs": [
    {
     "data": {
      "text/plain": [
       "<AxesSubplot:xlabel='date', ylabel='score'>"
      ]
     },
     "execution_count": 66,
     "metadata": {},
     "output_type": "execute_result"
    },
    {
     "data": {
      "image/png": "[encoded data removed]",
      "text/plain": [
       "<Figure size 432x288 with 1 Axes>"
      ]
     },
     "metadata": {
      "needs_background": "light"
     },
     "output_type": "display_data"
    }
   ],
   "source": [
    "df_day.plot(kind='scatter',x='date',y='score',logy=True)"
   ]
  },
  {
   "cell_type": "markdown",
   "id": "d5b722d4",
   "metadata": {},
   "source": [
    " "
   ]
  },
  {
   "cell_type": "code",
   "execution_count": 67,
   "id": "fda70f9a",
   "metadata": {},
   "outputs": [],
   "source": [
    "df_month = copy.deepcopy(df)\n",
    "\n",
    "def delete_day(t):\n",
    "    T = str(t)\n",
    "    return pd.Timestamp(T[:7])\n",
    "    \n",
    "df_month['date'] = df_month['date'].apply(delete_day) \n",
    "\n",
    "df_month = df_month.groupby(by='date').sum().groupby(level=[0]).cumsum()\n",
    "\n",
    "df_month = df_month.reset_index()"
   ]
  },
  {
   "cell_type": "code",
   "execution_count": 68,
   "id": "3e1b0325",
   "metadata": {},
   "outputs": [
    {
     "data": {
      "text/plain": [
       "<AxesSubplot:xlabel='date', ylabel='score'>"
      ]
     },
     "execution_count": 68,
     "metadata": {},
     "output_type": "execute_result"
    },
    {
     "data": {
      "image/png": "[encoded data removed]",
      "text/plain": [
       "<Figure size 432x288 with 1 Axes>"
      ]
     },
     "metadata": {
      "needs_background": "light"
     },
     "output_type": "display_data"
    }
   ],
   "source": [
    "df_month.plot(kind='scatter',x='date',y='score',logy=True)"
   ]
  },
  {
   "cell_type": "markdown",
   "id": "169ea748",
   "metadata": {},
   "source": [
    " "
   ]
  },
  {
   "cell_type": "markdown",
   "id": "ce7389c9",
   "metadata": {},
   "source": [
    " "
   ]
  },
  {
   "cell_type": "code",
   "execution_count": null,
   "id": "4389bcdc",
   "metadata": {},
   "outputs": [],
   "source": [
    "#To sort by and manipulate date information\n",
    "\"\"\"\n",
    "df['date'] = pd.to_datetime(df['created_utc'], utc=True, unit='s')\n",
    "df[['author', 'date', 'title', 'selftext', 'url', 'subreddit', 'score', 'num_comments', 'num_crossposts']].head(10)\n",
    "\"\"\""
   ]
  },
  {
   "cell_type": "code",
   "execution_count": null,
   "id": "e8e9d48d",
   "metadata": {},
   "outputs": [],
   "source": [
    "#search for comments\n",
    "\"\"\"\n",
    "start_epoch=int(datetime(2021, 10, 1).timestamp())\n",
    "end_epoch=int(datetime(2021, 12, 1).timestamp())\n",
    "\n",
    "api_request_generator = api.search_comments(\n",
    "                            q='work',\n",
    "                            after=start_epoch,\n",
    "                            before = end_epoch,\n",
    "                            limit=1000,\n",
    "                            score = \">200\")\n",
    "\n",
    "df2 = pd.DataFrame([submission.d_ for submission in api_request_generator])\n",
    "\n",
    "df2[\"created_utc\"] = df2[\"created_utc\"].apply(datetime.fromtimestamp)\n",
    "\"\"\""
   ]
  }
 ],
 "metadata": {
  "kernelspec": {
   "display_name": "Python 3",
   "language": "python",
   "name": "python3"
  },
  "language_info": {
   "codemirror_mode": {
    "name": "ipython",
    "version": 3
   },
   "file_extension": ".py",
   "mimetype": "text/x-python",
   "name": "python",
   "nbconvert_exporter": "python",
   "pygments_lexer": "ipython3",
   "version": "3.8.8"
  }
 },
 "nbformat": 4,
 "nbformat_minor": 5
}
